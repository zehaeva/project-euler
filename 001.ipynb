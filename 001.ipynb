{
 "cells": [
  {
   "cell_type": "code",
   "execution_count": 4,
   "metadata": {
    "collapsed": false
   },
   "outputs": [
    {
     "name": "stdout",
     "output_type": "stream",
     "text": [
      "233168\n"
     ]
    }
   ],
   "source": [
    "# Problem 1: If we list all the natural numbers below 10 that are multiples of 3 or 5, we get 3, 5, 6 and 9. \n",
    "#    The sum of these multiples is 23.\n",
    "#\n",
    "# Find the sum of all the multiples of 3 or 5 below 1000.\n",
    "#\n",
    "\n",
    "# use a set so we don't have to worry about duplicates\n",
    "multiples = set()\n",
    "\n",
    "for i in range(1, 334):\n",
    "    multiples.add(i*3)\n",
    "    \n",
    "for i in range(1, 200):\n",
    "    multiples.add(i*5)\n",
    "    \n",
    "print(sum(multiples))"
   ]
  },
  {
   "cell_type": "code",
   "execution_count": null,
   "metadata": {
    "collapsed": true
   },
   "outputs": [],
   "source": []
  }
 ],
 "metadata": {
  "kernelspec": {
   "display_name": "Python 3",
   "language": "python",
   "name": "python3"
  },
  "language_info": {
   "codemirror_mode": {
    "name": "ipython",
    "version": 3
   },
   "file_extension": ".py",
   "mimetype": "text/x-python",
   "name": "python",
   "nbconvert_exporter": "python",
   "pygments_lexer": "ipython3",
   "version": "3.5.0"
  }
 },
 "nbformat": 4,
 "nbformat_minor": 0
}
